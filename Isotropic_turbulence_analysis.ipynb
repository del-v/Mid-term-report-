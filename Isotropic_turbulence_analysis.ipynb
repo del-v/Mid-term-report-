{
  "nbformat": 4,
  "nbformat_minor": 0,
  "metadata": {
    "colab": {
      "name": "Isotropic-turbulence analysis.ipynb",
      "provenance": [],
      "collapsed_sections": []
    },
    "kernelspec": {
      "name": "python3",
      "display_name": "Python 3"
    },
    "language_info": {
      "name": "python"
    }
  },
  "cells": [
    {
      "cell_type": "markdown",
      "source": [
        "# **1)Analysis Using LSTM Model**"
      ],
      "metadata": {
        "id": "FXzNIGlYbQS2"
      }
    },
    {
      "cell_type": "code",
      "execution_count": null,
      "metadata": {
        "id": "tkp0PCwP_IsG"
      },
      "outputs": [],
      "source": [
        "import h5py\n",
        "import numpy as np\n",
        "import matplotlib.pyplot as plt\n",
        "from keras.models import Sequential\n",
        "from keras.layers import Dense\n",
        "from keras.layers import Dropout\n",
        "from keras.layers import LSTM\n",
        "from keras.callbacks import ModelCheckpoint\n",
        "from keras.utils import np_utils\n",
        "from keras import optimizers\n",
        "from keras.models import load_model\n",
        "from sklearn.metrics import mean_absolute_error\n",
        "from sklearn.metrics import mean_squared_error\n",
        "from math import sqrt\n",
        "%matplotlib inline \n",
        "import os"
      ]
    },
    {
      "cell_type": "markdown",
      "source": [
        "**Some function definitions which will generate input and output pair of sequences.**"
      ],
      "metadata": {
        "id": "665bCNGKSD4Z"
      }
    },
    {
      "cell_type": "code",
      "source": [
        "def create_sequences(data, length, output):\n",
        "    nsignals = data.shape[1]\n",
        "    siglen = data.shape[0]\n",
        "    sampX=[]\n",
        "    sampy=[]\n",
        "    indx = siglen - output - length\n",
        "    for j in range(nsignals):\n",
        "        sig = data[:,j]\n",
        "        for i in range(indx):\n",
        "            tempX = sig[i:length+i]\n",
        "            tempy = sig[i+length:length+i+output]\n",
        "            sampX.append(tempX)\n",
        "            sampy.append(tempy)\n",
        "    nsamples = len(sampX)        \n",
        "    X = np.array(sampX).reshape(nsamples, length, 1)\n",
        "    y = np.array(sampy).reshape(nsamples, output) \n",
        "    return X, y  \n",
        "\n"
      ],
      "metadata": {
        "id": "3yAvlNRU_Sgw"
      },
      "execution_count": null,
      "outputs": []
    },
    {
      "cell_type": "markdown",
      "source": [
        "**Function for splitting training and testing dataset:**"
      ],
      "metadata": {
        "id": "3gGkgyRqSh3R"
      }
    },
    {
      "cell_type": "code",
      "source": [
        "def define_test_dataset(X, y, n_patterns, ntestsigs):\n",
        "    testindex = int(np.floor(ntestsigs*n_patterns))\n",
        "    X_train = X[:-testindex,:,:]\n",
        "    y_train = y[:-testindex,:]\n",
        "    X_test = X[-testindex:,:,:]\n",
        "    y_test = y[-testindex:,:]\n",
        "    X_train = np.array(X_train)\n",
        "    y_train = np.array(y_train)\n",
        "    X_test = np.array(X_test)\n",
        "    y_test = np.array(y_test)\n",
        "    return X_train, y_train, X_test, y_test\n"
      ],
      "metadata": {
        "id": "NRZAzJioSagA"
      },
      "execution_count": null,
      "outputs": []
    },
    {
      "cell_type": "markdown",
      "source": [
        "**Mean absolute scaled error(MASE)**"
      ],
      "metadata": {
        "id": "P2fxlGwpSsO4"
      }
    },
    {
      "cell_type": "code",
      "source": [
        "def MASE(realData, predictedData):\n",
        "    \"\"\" Regression Error metric = mean absolute scaled error (MASE)\"\"\"\n",
        "    a1 = realData[:,1:]\n",
        "    a2 = realData[:,:-1]\n",
        "    maseErr = mean_absolute_error(a1,predictedData[:,1:])/mean_absolute_error(a1,a2)\n",
        "    return maseErr"
      ],
      "metadata": {
        "id": "XixKIYfCSaqi"
      },
      "execution_count": null,
      "outputs": []
    },
    {
      "cell_type": "markdown",
      "source": [
        "# **Now Load datasets**\n"
      ],
      "metadata": {
        "id": "LOCDbNt_VKNL"
      }
    },
    {
      "cell_type": "code",
      "source": [
        "ndataset = 5\n",
        "length = 10\n",
        "output = 10"
      ],
      "metadata": {
        "id": "lpCVvWE1S9fz"
      },
      "execution_count": null,
      "outputs": []
    },
    {
      "cell_type": "markdown",
      "source": [
        "**POD mode 1**"
      ],
      "metadata": {
        "id": "Qq3SDqMxVqWY"
      }
    },
    {
      "cell_type": "code",
      "source": [
        "\n",
        "############# POD mode 1\n",
        "fM1 = h5py.File('PODm1_isotropicTurb32BoxALL.mat')\n",
        "dataM1 = fM1.get('data')\n",
        "dataM1 = np.transpose(dataM1)\n",
        "\n",
        "\n",
        "# configure problem\n",
        "nsignals = dataM1.shape[1]\n",
        "siglen = dataM1.shape[0]\n",
        "\n",
        "# Extract sequences\n",
        "inputdata = dataM1[:,0:ndataset]\n",
        "XM1, yM1 = create_sequences(inputdata, length, output)\n",
        "#np.random.shuffle(X)\n",
        "#np.random.shuffle(y)\n",
        "ntestpatterns = siglen - length - output\n",
        "ntestsigs = 1\n",
        "X_trainM1, y_trainM1, X_testM1, y_testM1 = define_test_dataset(XM1, yM1, ntestpatterns, ntestsigs)\n",
        "X_trainM1.shape\n"
      ],
      "metadata": {
        "colab": {
          "base_uri": "https://localhost:8080/"
        },
        "id": "Tx1nR01X_W34",
        "outputId": "f12976b0-e7a8-4468-92a6-d5460ad539d0"
      },
      "execution_count": null,
      "outputs": [
        {
          "output_type": "execute_result",
          "data": {
            "text/plain": [
              "(20012, 10, 1)"
            ]
          },
          "metadata": {},
          "execution_count": 43
        }
      ]
    },
    {
      "cell_type": "markdown",
      "source": [
        "# Load LSTM Models:"
      ],
      "metadata": {
        "id": "XhBwKfZqWmaB"
      }
    },
    {
      "cell_type": "code",
      "source": [
        "modelM1 = load_model('isoturb32boxROM_PODm1_c1.1.h5')\n",
        "print('Loaded PODm1 model')"
      ],
      "metadata": {
        "colab": {
          "base_uri": "https://localhost:8080/"
        },
        "id": "gNzfoDkTAZgH",
        "outputId": "3f160f71-f2a7-4d26-da15-a7c4659a48b6"
      },
      "execution_count": null,
      "outputs": [
        {
          "output_type": "stream",
          "name": "stdout",
          "text": [
            "WARNING:tensorflow:Error in loading the saved optimizer state. As a result, your model is starting with a freshly initialized optimizer.\n",
            "Loaded PODm1 model\n"
          ]
        }
      ]
    },
    {
      "cell_type": "markdown",
      "source": [
        "# ROM prediction time index for all POD modes\n",
        " **EVALUATE: Predict future instance of POD coeffs and compare with truth value on test signal**\n",
        "\n"
      ],
      "metadata": {
        "id": "uqWAhSSkX0Vb"
      }
    },
    {
      "cell_type": "markdown",
      "source": [
        "**timeIndex : np.random.randint(0, ntestpatterns + 1)**"
      ],
      "metadata": {
        "id": "Y8HgqGirYPkM"
      }
    },
    {
      "cell_type": "code",
      "source": [
        "timeIndex = 4252\n",
        "print('Time Index is', timeIndex)\n",
        "\n",
        "############# POD mode 1\n",
        "datainputM1 = X_testM1[timeIndex ,:,:]\n",
        "datainputM1 = datainputM1.reshape(1, length, 1)\n",
        "realdataM1 = y_testM1[timeIndex ,:]\n",
        "realdataM1 = np.transpose(realdataM1).reshape(1,output)\n",
        "predictedM1 = modelM1.predict(datainputM1, verbose=0)\n"
      ],
      "metadata": {
        "colab": {
          "base_uri": "https://localhost:8080/"
        },
        "id": "2uvnvh_jB6LS",
        "outputId": "e9c8d27e-3b5e-4149-857a-e038b4ed24a4"
      },
      "execution_count": null,
      "outputs": [
        {
          "output_type": "stream",
          "name": "stdout",
          "text": [
            "Time Index is 4252\n"
          ]
        }
      ]
    },
    {
      "cell_type": "code",
      "source": [
        "plt.figure(figsize=(20,7))\n",
        "plt.figure(1)\n",
        "plt.subplot(321)\n",
        "plt.plot(np.transpose(realdataM1), label='real')\n",
        "plt.plot(np.transpose(predictedM1), label='predicted')\n",
        "plt.legend\n",
        "plt.xlabel('Time instants')\n",
        "plt.ylabel('Amplitude')\n",
        "plt.legend(['real', 'predicted'], loc='upper left')\n",
        "plt.show()"
      ],
      "metadata": {
        "colab": {
          "base_uri": "https://localhost:8080/",
          "height": 174
        },
        "id": "9lipolVVJ0B7",
        "outputId": "2e9b3760-2199-472e-8221-96e829b30495"
      },
      "execution_count": null,
      "outputs": [
        {
          "output_type": "display_data",
          "data": {
            "text/plain": [
              "<Figure size 1440x504 with 1 Axes>"
            ],
            "image/png": "[encoded data removed]"
          },
          "metadata": {
            "needs_background": "light"
          }
        }
      ]
    },
    {
      "cell_type": "markdown",
      "source": [
        "**Plot error for all predictions in a model**"
      ],
      "metadata": {
        "id": "Vl_-LWH_YmDY"
      }
    },
    {
      "cell_type": "code",
      "source": [
        "\n",
        "############# POD mode 1\n",
        "errTotM1 = []\n",
        "for idx in range(ntestpatterns):\n",
        "    datainputM1 = X_testM1[idx ,:,:]\n",
        "    datainputM1 = datainputM1.reshape(1, length, 1)\n",
        "    realdataM1 = y_testM1[idx ,:]\n",
        "    realdataM1 = np.transpose(realdataM1).reshape(1,output)\n",
        "    predictedM1 = modelM1.predict(datainputM1, verbose=0)\n",
        "    err = MASE(realdataM1, predictedM1)\n",
        "    errTotM1.append(err)"
      ],
      "metadata": {
        "id": "f8AN2Q0NCbH_"
      },
      "execution_count": null,
      "outputs": []
    },
    {
      "cell_type": "markdown",
      "source": [
        "# Plot MASE "
      ],
      "metadata": {
        "id": "k2n6TRazY2Tp"
      }
    },
    {
      "cell_type": "code",
      "source": [
        "xaxis = np.linspace(1,ntestpatterns, ntestpatterns)\n",
        "plt.scatter(xaxis, errTotM1, s=0.75)\n",
        "plt.xlabel('Samples')\n",
        "plt.ylabel('MASE')\n",
        "plt.show()\n",
        "print('Mean MASE is', np.mean(errTotM1))\n",
        "print('STD of MASE is', np.std(errTotM1))"
      ],
      "metadata": {
        "colab": {
          "base_uri": "https://localhost:8080/",
          "height": 314
        },
        "id": "IzKcrSkQCfDy",
        "outputId": "70bc78b3-88c3-4766-cef5-0cecee19be37"
      },
      "execution_count": null,
      "outputs": [
        {
          "output_type": "display_data",
          "data": {
            "text/plain": [
              "<Figure size 432x288 with 1 Axes>"
            ],
            "image/png": "[encoded data removed]"
          },
          "metadata": {
            "needs_background": "light"
          }
        },
        {
          "output_type": "stream",
          "name": "stdout",
          "text": [
            "Mean MASE is 1.2742033689763739\n",
            "STD of MASE is 1.7542231359845724\n"
          ]
        }
      ]
    },
    {
      "cell_type": "markdown",
      "source": [
        "# Plot loss vs epochs:"
      ],
      "metadata": {
        "id": "are-iXaUZurq"
      }
    },
    {
      "cell_type": "code",
      "source": [
        "ll = np.load('isoturb32boxROM_PODm1_c1.1_res.npz')\n",
        "plt.plot(ll['loss_history'])\n",
        "plt.show()\n",
        "print('final loss PODm1', ll['loss_history'][-1])"
      ],
      "metadata": {
        "colab": {
          "base_uri": "https://localhost:8080/",
          "height": 286
        },
        "id": "EXvDnbxaZq2h",
        "outputId": "a37eed65-4317-4fe3-af8a-ef7ded2c7897"
      },
      "execution_count": null,
      "outputs": [
        {
          "output_type": "display_data",
          "data": {
            "text/plain": [
              "<Figure size 432x288 with 1 Axes>"
            ],
            "image/png": "[encoded data removed]"
          },
          "metadata": {
            "needs_background": "light"
          }
        },
        {
          "output_type": "stream",
          "name": "stdout",
          "text": [
            "final loss PODm1 0.072893534814736\n"
          ]
        }
      ]
    },
    {
      "cell_type": "markdown",
      "source": [
        "# **Analysis using BiLSTM model**"
      ],
      "metadata": {
        "id": "i_wfgUtqbATp"
      }
    },
    {
      "cell_type": "markdown",
      "source": [
        "**Functions definitions:**\n"
      ],
      "metadata": {
        "id": "9tjg_9Wtb9wb"
      }
    },
    {
      "cell_type": "markdown",
      "source": [
        "**Generate input and output pairs of sequences.**"
      ],
      "metadata": {
        "id": "Is1cYuCvcaRZ"
      }
    },
    {
      "cell_type": "code",
      "source": [
        "def create_sequences_BiLSTM(data, length, output):\n",
        "    nsignals = data.shape[1]\n",
        "    siglen = data.shape[0]\n",
        "    sampX=[]\n",
        "    sampy=[]\n",
        "    indx = siglen - output - length\n",
        "    for j in range(nsignals):\n",
        "        sig = data[:,j]\n",
        "        for i in range(indx):\n",
        "            tempX = sig[i:length+i]\n",
        "            tempy = sig[i+length:length+i+output]\n",
        "            sampX.append(tempX)\n",
        "            sampy.append(tempy)\n",
        "    nsamples = len(sampX)        \n",
        "    X = np.array(sampX).reshape(nsamples, length, 1)\n",
        "    y = np.array(sampy).reshape(nsamples, output, 1) \n",
        "    return X, y"
      ],
      "metadata": {
        "id": "-f00N1QNIBmf"
      },
      "execution_count": null,
      "outputs": []
    },
    {
      "cell_type": "markdown",
      "source": [
        "**Split training and test datasets.**"
      ],
      "metadata": {
        "id": "DK_Sn4GecE0y"
      }
    },
    {
      "cell_type": "code",
      "source": [
        "def define_test_dataset_BiLSTM(X, y, n_patterns, ntestsigs):\n",
        "    testindex = int(np.floor(ntestsigs*n_patterns))\n",
        "    X_train = X[:-testindex,:,:]\n",
        "    y_train = y[:-testindex,:,:]\n",
        "    X_test = X[-testindex:,:,:]\n",
        "    y_test = y[-testindex:,:,:]\n",
        "    X_train = np.array(X_train)\n",
        "    y_train = np.array(y_train)\n",
        "    X_test = np.array(X_test)\n",
        "    y_test = np.array(y_test)\n",
        "    return X_train, y_train, X_test, y_test"
      ],
      "metadata": {
        "id": "59tD-F0CcKnR"
      },
      "execution_count": null,
      "outputs": []
    },
    {
      "cell_type": "markdown",
      "source": [
        "**Mean absolute scaled error(MASE)**"
      ],
      "metadata": {
        "id": "F00etmcZcLAK"
      }
    },
    {
      "cell_type": "code",
      "source": [
        "def MASE(realData, predictedData):\n",
        "    \"\"\" Regression Error metric = mean absolute scaled error (MASE)\"\"\"\n",
        "    temp = realData.shape\n",
        "    datlen = temp[1]-1\n",
        "    a1 = np.reshape(realData[0,1:],[datlen,1])\n",
        "    a2 = np.reshape(realData[0,:-1],[datlen,1])\n",
        "    maseErr = mean_absolute_error(a1,predictedData[0,1:])/mean_absolute_error(a1,a2)\n",
        "    return maseErr"
      ],
      "metadata": {
        "id": "FVb2rIrqcTwB"
      },
      "execution_count": null,
      "outputs": []
    },
    {
      "cell_type": "markdown",
      "source": [
        "**Load BiLSTM database**"
      ],
      "metadata": {
        "id": "J1Go0_Ric1ga"
      }
    },
    {
      "cell_type": "code",
      "source": [
        "length=10\n",
        "output=length\n",
        "fM1 = h5py.File('PODm1_isotropicTurb32BoxALL.mat')\n",
        "dataM1 = fM1.get('data')\n",
        "dataM1 = np.transpose(dataM1)"
      ],
      "metadata": {
        "id": "Q_2j7bUjdk8q"
      },
      "execution_count": null,
      "outputs": []
    },
    {
      "cell_type": "code",
      "source": [
        "# configure problem\n",
        "nsignals = dataM1.shape[1]\n",
        "siglen = dataM1.shape[0]\n",
        "\n",
        "# Extract sequences\n",
        "inputdata = dataM1[:,0:ndataset]\n",
        "XM1, yM1 = create_sequences_BiLSTM(inputdata, length, output)\n",
        "ntestpatterns = siglen - length - output\n",
        "ntestsigs = 1\n",
        "X_trainM1, y_trainM1, X_testM1_B, y_testM1_B = define_test_dataset_BiLSTM(XM1, yM1,ntestpatterns,ntestsigs)\n"
      ],
      "metadata": {
        "id": "wTpaTJ_jdplZ"
      },
      "execution_count": null,
      "outputs": []
    },
    {
      "cell_type": "code",
      "source": [
        "modelM1_B = load_model('isoturb32boxROM_PODm1_c2.1.h5')\n",
        "print('Loaded PODm1 model')"
      ],
      "metadata": {
        "colab": {
          "base_uri": "https://localhost:8080/"
        },
        "id": "JtXzYdHNeDv7",
        "outputId": "98d74103-524a-44c7-8276-a36dd736447d"
      },
      "execution_count": null,
      "outputs": [
        {
          "output_type": "stream",
          "name": "stdout",
          "text": [
            "WARNING:tensorflow:Error in loading the saved optimizer state. As a result, your model is starting with a freshly initialized optimizer.\n",
            "Loaded PODm1 model\n"
          ]
        }
      ]
    },
    {
      "cell_type": "markdown",
      "source": [
        "**BiLSTM ROM prediction time index for all POD modes**\n"
      ],
      "metadata": {
        "id": "G3t1DvUi0UuK"
      }
    },
    {
      "cell_type": "markdown",
      "source": [
        "**EVALUATE: Predict future instance of POD coeffs and compare with truth value on test signal**"
      ],
      "metadata": {
        "id": "N4BjR1vM0Ygn"
      }
    },
    {
      "cell_type": "markdown",
      "source": [
        "**timeIndex = np.random.randint(0, ntestpatterns + 1)**"
      ],
      "metadata": {
        "id": "cTozOJZ00YoY"
      }
    },
    {
      "cell_type": "code",
      "source": [
        "timeIndex = 764\n",
        "print('Time Index is', timeIndex)\n",
        "nHorizon = 1 # no. of sequences you want to cyclically predict\n"
      ],
      "metadata": {
        "colab": {
          "base_uri": "https://localhost:8080/"
        },
        "id": "LoMyA2pk0TcS",
        "outputId": "ec4302ba-52eb-41d9-8e56-134bd222f7a3"
      },
      "execution_count": null,
      "outputs": [
        {
          "output_type": "stream",
          "name": "stdout",
          "text": [
            "Time Index is 764\n"
          ]
        }
      ]
    },
    {
      "cell_type": "code",
      "source": [
        "signalM1_B = np.zeros((1,10))\n",
        "trueSignalM1_B = np.zeros((1,10))\n",
        "datainputM1 = X_testM1_B[timeIndex ,:,:]\n",
        "for i in range(0,nHorizon):\n",
        "    datainputM1 = datainputM1.reshape(1, length, 1)\n",
        "    predictedM1 = modelM1_B.predict(datainputM1, verbose=0)\n",
        "    signalM1_B = np.append(signalM1_B, predictedM1)\n",
        "    expected = y_testM1_B[timeIndex + i*10,:]\n",
        "    trueSignalM1_B = np.append(trueSignalM1_B, expected)\n",
        "    datainputM1 = np.transpose(predictedM1)  \n"
      ],
      "metadata": {
        "id": "dnsflkOu0umn"
      },
      "execution_count": null,
      "outputs": []
    },
    {
      "cell_type": "markdown",
      "source": [
        "**Plot predicted coefficient:**"
      ],
      "metadata": {
        "id": "vHXct7Tu2wuK"
      }
    },
    {
      "cell_type": "code",
      "source": [
        "plt.figure(1)\n",
        "plt.plot(trueSignalM1_B[10:],'r+', label='real')\n",
        "plt.plot(signalM1_B[10:], label='BiLSTM')\n",
        "plt.legend()\n",
        "plt.xlabel('Time instants')\n",
        "plt.ylabel('Amplitude')\n",
        "plt.show()"
      ],
      "metadata": {
        "colab": {
          "base_uri": "https://localhost:8080/",
          "height": 279
        },
        "id": "4OPABOMl0xmC",
        "outputId": "ede2ceaf-53bf-4c7d-9a20-833b96e87c6b"
      },
      "execution_count": null,
      "outputs": [
        {
          "output_type": "display_data",
          "data": {
            "text/plain": [
              "<Figure size 432x288 with 1 Axes>"
            ],
            "image/png": "[encoded data removed]"
          },
          "metadata": {
            "needs_background": "light"
          }
        }
      ]
    },
    {
      "cell_type": "markdown",
      "source": [
        "**Calculate MASE**"
      ],
      "metadata": {
        "id": "nRZyizwp2kO9"
      }
    },
    {
      "cell_type": "code",
      "source": [
        "errTotM1 = []\n",
        "\n",
        "for idx in range(ntestpatterns):\n",
        "    datainput = X_testM1_B[idx ,:,:]\n",
        "    datainput = datainput.reshape(1, length, 1)\n",
        "    realdata = y_testM1_B[idx ,:]\n",
        "    realdata = np.transpose(realdata).reshape(1,output)\n",
        "    predicted = modelM1_B.predict(datainput, verbose=0)\n",
        "    err = MASE(realdata, predicted)\n",
        "    errTotM1.append(err)\n",
        "\n",
        "print('Computed PODm1 err Total Error')"
      ],
      "metadata": {
        "colab": {
          "base_uri": "https://localhost:8080/"
        },
        "id": "Gp7qwCn601ZS",
        "outputId": "c0fbad49-7139-4465-c24b-9744d08e0137"
      },
      "execution_count": null,
      "outputs": [
        {
          "output_type": "stream",
          "name": "stdout",
          "text": [
            "Computed PODm1 err Total Error\n"
          ]
        }
      ]
    },
    {
      "cell_type": "markdown",
      "source": [
        "**Plot MASE for POD mode-1**"
      ],
      "metadata": {
        "id": "AZ9kqDLg2bPP"
      }
    },
    {
      "cell_type": "code",
      "source": [
        "xaxis = np.linspace(1,ntestpatterns, ntestpatterns)\n",
        "\n",
        "plt.scatter(xaxis, errTotM1, s=0.75)\n",
        "plt.xlabel('Samples')\n",
        "plt.ylabel('MASE')\n",
        "plt.show()\n",
        "print('Mean MAE is', np.mean(errTotM1))\n",
        "print('STD of MAE is', np.std(errTotM1))\n"
      ],
      "metadata": {
        "colab": {
          "base_uri": "https://localhost:8080/",
          "height": 314
        },
        "id": "72lnwNgz0_Kx",
        "outputId": "83ff294f-11fa-4c5e-8549-3e91336406a2"
      },
      "execution_count": null,
      "outputs": [
        {
          "output_type": "display_data",
          "data": {
            "text/plain": [
              "<Figure size 432x288 with 1 Axes>"
            ],
            "image/png": "[encoded data removed]"
          },
          "metadata": {
            "needs_background": "light"
          }
        },
        {
          "output_type": "stream",
          "name": "stdout",
          "text": [
            "Mean MAE is 3.481923360431399\n",
            "STD of MAE is 4.548717898594329\n"
          ]
        }
      ]
    },
    {
      "cell_type": "markdown",
      "source": [
        "**Plot loss vs epochs.**"
      ],
      "metadata": {
        "id": "BMnyTKl92OUI"
      }
    },
    {
      "cell_type": "code",
      "source": [
        "ll = np.load('isoturb32boxROM_PODm1_c2.1_res.npz')\n",
        "plt.plot(ll['loss_history'])\n",
        "plt.show()\n",
        "print('final loss PODm1', ll['loss_history'][-1])"
      ],
      "metadata": {
        "colab": {
          "base_uri": "https://localhost:8080/",
          "height": 282
        },
        "id": "QJU61sWM1L4Q",
        "outputId": "f7583039-0930-42c1-b8d2-b88fcf66f52d"
      },
      "execution_count": null,
      "outputs": [
        {
          "output_type": "display_data",
          "data": {
            "text/plain": [
              "<Figure size 432x288 with 1 Axes>"
            ],
            "image/png": "[encoded data removed]"
          },
          "metadata": {
            "needs_background": "light"
          }
        },
        {
          "output_type": "stream",
          "name": "stdout",
          "text": [
            "final loss PODm1 0.16806605661091698\n"
          ]
        }
      ]
    }
  ]
}